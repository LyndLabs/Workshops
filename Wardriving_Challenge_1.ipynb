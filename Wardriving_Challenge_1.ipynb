{
  "nbformat": 4,
  "nbformat_minor": 0,
  "metadata": {
    "colab": {
      "provenance": []
    },
    "kernelspec": {
      "name": "python3",
      "display_name": "Python 3"
    },
    "language_info": {
      "name": "python"
    }
  },
  "cells": [
    {
      "cell_type": "markdown",
      "source": [
        "# **Challenge 1: Basic Plotting**\n",
        "Welcome!  In this challenge, you'll learn to use `Pandas` to import a wardriving dataset, and `Folium` to render an interactive map.  You'll be working with a dataset captured from a war(flying) drone!"
      ],
      "metadata": {
        "id": "JmR8cz1ekh83"
      }
    },
    {
      "cell_type": "markdown",
      "source": [
        "### **Step 1**: Import the Dataset\n",
        "We start by importing the CSV file generated from the ESP8266 wardriving rig, which is formatted to the [WiGLE CSV](https://api.wigle.net/csvFormat.html) convention.  Try printing out a table of the captured networks!"
      ],
      "metadata": {
        "id": "QD5nr2g7lJES"
      }
    },
    {
      "cell_type": "code",
      "source": [
        "# import dataset\n",
        "\n",
        "# read wardriving csv file into Pandas dataframe\n",
        "import pandas as pd\n",
        "wd = pd.read_csv ('./Missoula-Warflight-08-21-2021.csv', delimiter = ',')\n",
        "\n",
        "# print our dataframe & total networks captured!\n",
        "print(\"Total WiFi AP entries: \" + str(len(wd)))\n",
        "wd.sample(10)"
      ],
      "metadata": {
        "id": "i3b2RF2JkpSN",
        "outputId": "0db3a073-8bda-4436-e0e2-1bbf3a5447dc",
        "colab": {
          "base_uri": "https://localhost:8080/",
          "height": 598
        }
      },
      "execution_count": null,
      "outputs": [
        {
          "output_type": "stream",
          "name": "stdout",
          "text": [
            "Total WiFi AP entries: 5293\n"
          ]
        },
        {
          "output_type": "execute_result",
          "data": {
            "text/plain": [
              "                    MAC                            SSID  \\\n",
              "4606  A8:9A:93:B1:FF:96             MySpectrumWiFi90-2G   \n",
              "4259  18:E8:29:14:23:36  Missoula Paddleheads - Private   \n",
              "2766  A8:97:CD:76:CD:DA             MySpectrumWiFiD9-2G   \n",
              "2423  A8:97:CD:76:CD:DA             MySpectrumWiFiD9-2G   \n",
              "101   2A:E8:29:5A:1B:8C   Missoula Paddleheads  - Guest   \n",
              "1812  70:F2:20:E1:29:E3                 CenturyLink4767   \n",
              "3871  3C:37:86:62:6C:85                        Bardsley   \n",
              "108   FC:EC:DA:AD:D3:85  Missoula Paddleheads - Private   \n",
              "1566  08:D5:9D:8F:8A:C6             MySpectrumWiFic0-2G   \n",
              "962   E8:9F:80:48:65:9A                       Home Nora   \n",
              "\n",
              "                                        Encryption           FirstSeen  \\\n",
              "4606                     [WPA2-PSK-CCMP+TKIP][ESS]  2021-8-21 18:47:56   \n",
              "4259                     [WPA2-PSK-CCMP+TKIP][ESS]  2021-8-21 18:47:30   \n",
              "2766                     [WPA2-PSK-CCMP+TKIP][ESS]  2021-8-21 18:44:38   \n",
              "2423                     [WPA2-PSK-CCMP+TKIP][ESS]   2021-8-21 18:44:4   \n",
              "101                                          [ESS]  2021-8-21 18:37:16   \n",
              "1812  [WPA-PSK-CCMP+TKIP][WPA2-PSK-CCMP+TKIP][ESS]   2021-8-21 18:43:0   \n",
              "3871                     [WPA2-PSK-CCMP+TKIP][ESS]  2021-8-21 18:46:55   \n",
              "108                      [WPA2-PSK-CCMP+TKIP][ESS]  2021-8-21 18:37:16   \n",
              "1566                     [WPA2-PSK-CCMP+TKIP][ESS]  2021-8-21 18:42:27   \n",
              "962                      [WPA2-PSK-CCMP+TKIP][ESS]  2021-8-21 18:40:16   \n",
              "\n",
              "      Channel  RSSI   Latitude   Longitude  AltitudeMeters  AccuracyMeters  \\\n",
              "4606        1   -89  46.874306 -114.009471           991.8             160   \n",
              "4259        1   -76  46.874295 -114.009734          1002.1             160   \n",
              "2766        1   -86  46.874249 -114.006191          1062.9             220   \n",
              "2423        1   -85  46.873509 -114.009497          1052.4             159   \n",
              "101         1   -75  46.874303 -114.009097           987.8             291   \n",
              "1812        1   -89  46.874245 -114.009218           997.2             185   \n",
              "3871        2   -87  46.873558 -114.009929          1044.9             160   \n",
              "108        11   -91  46.874303 -114.009097           987.8             291   \n",
              "1566        1   -85  46.874194 -114.009172           969.0             185   \n",
              "962        11   -92  46.874220 -114.009167           964.7             240   \n",
              "\n",
              "      Type  \n",
              "4606  WIFI  \n",
              "4259  WIFI  \n",
              "2766  WIFI  \n",
              "2423  WIFI  \n",
              "101   WIFI  \n",
              "1812  WIFI  \n",
              "3871  WIFI  \n",
              "108   WIFI  \n",
              "1566  WIFI  \n",
              "962   WIFI  "
            ],
            "text/html": [
              "\n",
              "\n",
              "  <div id=\"df-bff84217-a0fb-407c-a237-fe6f33e766eb\">\n",
              "    <div class=\"colab-df-container\">\n",
              "      <div>\n",
              "<style scoped>\n",
              "    .dataframe tbody tr th:only-of-type {\n",
              "        vertical-align: middle;\n",
              "    }\n",
              "\n",
              "    .dataframe tbody tr th {\n",
              "        vertical-align: top;\n",
              "    }\n",
              "\n",
              "    .dataframe thead th {\n",
              "        text-align: right;\n",
              "    }\n",
              "</style>\n",
              "<table border=\"1\" class=\"dataframe\">\n",
              "  <thead>\n",
              "    <tr style=\"text-align: right;\">\n",
              "      <th></th>\n",
              "      <th>MAC</th>\n",
              "      <th>SSID</th>\n",
              "      <th>Encryption</th>\n",
              "      <th>FirstSeen</th>\n",
              "      <th>Channel</th>\n",
              "      <th>RSSI</th>\n",
              "      <th>Latitude</th>\n",
              "      <th>Longitude</th>\n",
              "      <th>AltitudeMeters</th>\n",
              "      <th>AccuracyMeters</th>\n",
              "      <th>Type</th>\n",
              "    </tr>\n",
              "  </thead>\n",
              "  <tbody>\n",
              "    <tr>\n",
              "      <th>4606</th>\n",
              "      <td>A8:9A:93:B1:FF:96</td>\n",
              "      <td>MySpectrumWiFi90-2G</td>\n",
              "      <td>[WPA2-PSK-CCMP+TKIP][ESS]</td>\n",
              "      <td>2021-8-21 18:47:56</td>\n",
              "      <td>1</td>\n",
              "      <td>-89</td>\n",
              "      <td>46.874306</td>\n",
              "      <td>-114.009471</td>\n",
              "      <td>991.8</td>\n",
              "      <td>160</td>\n",
              "      <td>WIFI</td>\n",
              "    </tr>\n",
              "    <tr>\n",
              "      <th>4259</th>\n",
              "      <td>18:E8:29:14:23:36</td>\n",
              "      <td>Missoula Paddleheads - Private</td>\n",
              "      <td>[WPA2-PSK-CCMP+TKIP][ESS]</td>\n",
              "      <td>2021-8-21 18:47:30</td>\n",
              "      <td>1</td>\n",
              "      <td>-76</td>\n",
              "      <td>46.874295</td>\n",
              "      <td>-114.009734</td>\n",
              "      <td>1002.1</td>\n",
              "      <td>160</td>\n",
              "      <td>WIFI</td>\n",
              "    </tr>\n",
              "    <tr>\n",
              "      <th>2766</th>\n",
              "      <td>A8:97:CD:76:CD:DA</td>\n",
              "      <td>MySpectrumWiFiD9-2G</td>\n",
              "      <td>[WPA2-PSK-CCMP+TKIP][ESS]</td>\n",
              "      <td>2021-8-21 18:44:38</td>\n",
              "      <td>1</td>\n",
              "      <td>-86</td>\n",
              "      <td>46.874249</td>\n",
              "      <td>-114.006191</td>\n",
              "      <td>1062.9</td>\n",
              "      <td>220</td>\n",
              "      <td>WIFI</td>\n",
              "    </tr>\n",
              "    <tr>\n",
              "      <th>2423</th>\n",
              "      <td>A8:97:CD:76:CD:DA</td>\n",
              "      <td>MySpectrumWiFiD9-2G</td>\n",
              "      <td>[WPA2-PSK-CCMP+TKIP][ESS]</td>\n",
              "      <td>2021-8-21 18:44:4</td>\n",
              "      <td>1</td>\n",
              "      <td>-85</td>\n",
              "      <td>46.873509</td>\n",
              "      <td>-114.009497</td>\n",
              "      <td>1052.4</td>\n",
              "      <td>159</td>\n",
              "      <td>WIFI</td>\n",
              "    </tr>\n",
              "    <tr>\n",
              "      <th>101</th>\n",
              "      <td>2A:E8:29:5A:1B:8C</td>\n",
              "      <td>Missoula Paddleheads  - Guest</td>\n",
              "      <td>[ESS]</td>\n",
              "      <td>2021-8-21 18:37:16</td>\n",
              "      <td>1</td>\n",
              "      <td>-75</td>\n",
              "      <td>46.874303</td>\n",
              "      <td>-114.009097</td>\n",
              "      <td>987.8</td>\n",
              "      <td>291</td>\n",
              "      <td>WIFI</td>\n",
              "    </tr>\n",
              "    <tr>\n",
              "      <th>1812</th>\n",
              "      <td>70:F2:20:E1:29:E3</td>\n",
              "      <td>CenturyLink4767</td>\n",
              "      <td>[WPA-PSK-CCMP+TKIP][WPA2-PSK-CCMP+TKIP][ESS]</td>\n",
              "      <td>2021-8-21 18:43:0</td>\n",
              "      <td>1</td>\n",
              "      <td>-89</td>\n",
              "      <td>46.874245</td>\n",
              "      <td>-114.009218</td>\n",
              "      <td>997.2</td>\n",
              "      <td>185</td>\n",
              "      <td>WIFI</td>\n",
              "    </tr>\n",
              "    <tr>\n",
              "      <th>3871</th>\n",
              "      <td>3C:37:86:62:6C:85</td>\n",
              "      <td>Bardsley</td>\n",
              "      <td>[WPA2-PSK-CCMP+TKIP][ESS]</td>\n",
              "      <td>2021-8-21 18:46:55</td>\n",
              "      <td>2</td>\n",
              "      <td>-87</td>\n",
              "      <td>46.873558</td>\n",
              "      <td>-114.009929</td>\n",
              "      <td>1044.9</td>\n",
              "      <td>160</td>\n",
              "      <td>WIFI</td>\n",
              "    </tr>\n",
              "    <tr>\n",
              "      <th>108</th>\n",
              "      <td>FC:EC:DA:AD:D3:85</td>\n",
              "      <td>Missoula Paddleheads - Private</td>\n",
              "      <td>[WPA2-PSK-CCMP+TKIP][ESS]</td>\n",
              "      <td>2021-8-21 18:37:16</td>\n",
              "      <td>11</td>\n",
              "      <td>-91</td>\n",
              "      <td>46.874303</td>\n",
              "      <td>-114.009097</td>\n",
              "      <td>987.8</td>\n",
              "      <td>291</td>\n",
              "      <td>WIFI</td>\n",
              "    </tr>\n",
              "    <tr>\n",
              "      <th>1566</th>\n",
              "      <td>08:D5:9D:8F:8A:C6</td>\n",
              "      <td>MySpectrumWiFic0-2G</td>\n",
              "      <td>[WPA2-PSK-CCMP+TKIP][ESS]</td>\n",
              "      <td>2021-8-21 18:42:27</td>\n",
              "      <td>1</td>\n",
              "      <td>-85</td>\n",
              "      <td>46.874194</td>\n",
              "      <td>-114.009172</td>\n",
              "      <td>969.0</td>\n",
              "      <td>185</td>\n",
              "      <td>WIFI</td>\n",
              "    </tr>\n",
              "    <tr>\n",
              "      <th>962</th>\n",
              "      <td>E8:9F:80:48:65:9A</td>\n",
              "      <td>Home Nora</td>\n",
              "      <td>[WPA2-PSK-CCMP+TKIP][ESS]</td>\n",
              "      <td>2021-8-21 18:40:16</td>\n",
              "      <td>11</td>\n",
              "      <td>-92</td>\n",
              "      <td>46.874220</td>\n",
              "      <td>-114.009167</td>\n",
              "      <td>964.7</td>\n",
              "      <td>240</td>\n",
              "      <td>WIFI</td>\n",
              "    </tr>\n",
              "  </tbody>\n",
              "</table>\n",
              "</div>\n",
              "      <button class=\"colab-df-convert\" onclick=\"convertToInteractive('df-bff84217-a0fb-407c-a237-fe6f33e766eb')\"\n",
              "              title=\"Convert this dataframe to an interactive table.\"\n",
              "              style=\"display:none;\">\n",
              "\n",
              "  <svg xmlns=\"http://www.w3.org/2000/svg\" height=\"24px\"viewBox=\"0 0 24 24\"\n",
              "       width=\"24px\">\n",
              "    <path d=\"M0 0h24v24H0V0z\" fill=\"none\"/>\n",
              "    <path d=\"M18.56 5.44l.94 2.06.94-2.06 2.06-.94-2.06-.94-.94-2.06-.94 2.06-2.06.94zm-11 1L8.5 8.5l.94-2.06 2.06-.94-2.06-.94L8.5 2.5l-.94 2.06-2.06.94zm10 10l.94 2.06.94-2.06 2.06-.94-2.06-.94-.94-2.06-.94 2.06-2.06.94z\"/><path d=\"M17.41 7.96l-1.37-1.37c-.4-.4-.92-.59-1.43-.59-.52 0-1.04.2-1.43.59L10.3 9.45l-7.72 7.72c-.78.78-.78 2.05 0 2.83L4 21.41c.39.39.9.59 1.41.59.51 0 1.02-.2 1.41-.59l7.78-7.78 2.81-2.81c.8-.78.8-2.07 0-2.86zM5.41 20L4 18.59l7.72-7.72 1.47 1.35L5.41 20z\"/>\n",
              "  </svg>\n",
              "      </button>\n",
              "\n",
              "\n",
              "\n",
              "    <div id=\"df-16539c4d-5150-453a-9f67-993f239175d3\">\n",
              "      <button class=\"colab-df-quickchart\" onclick=\"quickchart('df-16539c4d-5150-453a-9f67-993f239175d3')\"\n",
              "              title=\"Suggest charts.\"\n",
              "              style=\"display:none;\">\n",
              "\n",
              "<svg xmlns=\"http://www.w3.org/2000/svg\" height=\"24px\"viewBox=\"0 0 24 24\"\n",
              "     width=\"24px\">\n",
              "    <g>\n",
              "        <path d=\"M19 3H5c-1.1 0-2 .9-2 2v14c0 1.1.9 2 2 2h14c1.1 0 2-.9 2-2V5c0-1.1-.9-2-2-2zM9 17H7v-7h2v7zm4 0h-2V7h2v10zm4 0h-2v-4h2v4z\"/>\n",
              "    </g>\n",
              "</svg>\n",
              "      </button>\n",
              "    </div>\n",
              "\n",
              "<style>\n",
              "  .colab-df-quickchart {\n",
              "    background-color: #E8F0FE;\n",
              "    border: none;\n",
              "    border-radius: 50%;\n",
              "    cursor: pointer;\n",
              "    display: none;\n",
              "    fill: #1967D2;\n",
              "    height: 32px;\n",
              "    padding: 0 0 0 0;\n",
              "    width: 32px;\n",
              "  }\n",
              "\n",
              "  .colab-df-quickchart:hover {\n",
              "    background-color: #E2EBFA;\n",
              "    box-shadow: 0px 1px 2px rgba(60, 64, 67, 0.3), 0px 1px 3px 1px rgba(60, 64, 67, 0.15);\n",
              "    fill: #174EA6;\n",
              "  }\n",
              "\n",
              "  [theme=dark] .colab-df-quickchart {\n",
              "    background-color: #3B4455;\n",
              "    fill: #D2E3FC;\n",
              "  }\n",
              "\n",
              "  [theme=dark] .colab-df-quickchart:hover {\n",
              "    background-color: #434B5C;\n",
              "    box-shadow: 0px 1px 3px 1px rgba(0, 0, 0, 0.15);\n",
              "    filter: drop-shadow(0px 1px 2px rgba(0, 0, 0, 0.3));\n",
              "    fill: #FFFFFF;\n",
              "  }\n",
              "</style>\n",
              "\n",
              "    <script>\n",
              "      async function quickchart(key) {\n",
              "        const containerElement = document.querySelector('#' + key);\n",
              "        const charts = await google.colab.kernel.invokeFunction(\n",
              "            'suggestCharts', [key], {});\n",
              "      }\n",
              "    </script>\n",
              "\n",
              "      <script>\n",
              "\n",
              "function displayQuickchartButton(domScope) {\n",
              "  let quickchartButtonEl =\n",
              "    domScope.querySelector('#df-16539c4d-5150-453a-9f67-993f239175d3 button.colab-df-quickchart');\n",
              "  quickchartButtonEl.style.display =\n",
              "    google.colab.kernel.accessAllowed ? 'block' : 'none';\n",
              "}\n",
              "\n",
              "        displayQuickchartButton(document);\n",
              "      </script>\n",
              "      <style>\n",
              "    .colab-df-container {\n",
              "      display:flex;\n",
              "      flex-wrap:wrap;\n",
              "      gap: 12px;\n",
              "    }\n",
              "\n",
              "    .colab-df-convert {\n",
              "      background-color: #E8F0FE;\n",
              "      border: none;\n",
              "      border-radius: 50%;\n",
              "      cursor: pointer;\n",
              "      display: none;\n",
              "      fill: #1967D2;\n",
              "      height: 32px;\n",
              "      padding: 0 0 0 0;\n",
              "      width: 32px;\n",
              "    }\n",
              "\n",
              "    .colab-df-convert:hover {\n",
              "      background-color: #E2EBFA;\n",
              "      box-shadow: 0px 1px 2px rgba(60, 64, 67, 0.3), 0px 1px 3px 1px rgba(60, 64, 67, 0.15);\n",
              "      fill: #174EA6;\n",
              "    }\n",
              "\n",
              "    [theme=dark] .colab-df-convert {\n",
              "      background-color: #3B4455;\n",
              "      fill: #D2E3FC;\n",
              "    }\n",
              "\n",
              "    [theme=dark] .colab-df-convert:hover {\n",
              "      background-color: #434B5C;\n",
              "      box-shadow: 0px 1px 3px 1px rgba(0, 0, 0, 0.15);\n",
              "      filter: drop-shadow(0px 1px 2px rgba(0, 0, 0, 0.3));\n",
              "      fill: #FFFFFF;\n",
              "    }\n",
              "  </style>\n",
              "\n",
              "      <script>\n",
              "        const buttonEl =\n",
              "          document.querySelector('#df-bff84217-a0fb-407c-a237-fe6f33e766eb button.colab-df-convert');\n",
              "        buttonEl.style.display =\n",
              "          google.colab.kernel.accessAllowed ? 'block' : 'none';\n",
              "\n",
              "        async function convertToInteractive(key) {\n",
              "          const element = document.querySelector('#df-bff84217-a0fb-407c-a237-fe6f33e766eb');\n",
              "          const dataTable =\n",
              "            await google.colab.kernel.invokeFunction('convertToInteractive',\n",
              "                                                     [key], {});\n",
              "          if (!dataTable) return;\n",
              "\n",
              "          const docLinkHtml = 'Like what you see? Visit the ' +\n",
              "            '<a target=\"_blank\" href=https://colab.research.google.com/notebooks/data_table.ipynb>data table notebook</a>'\n",
              "            + ' to learn more about interactive tables.';\n",
              "          element.innerHTML = '';\n",
              "          dataTable['output_type'] = 'display_data';\n",
              "          await google.colab.output.renderOutput(dataTable, element);\n",
              "          const docLink = document.createElement('div');\n",
              "          docLink.innerHTML = docLinkHtml;\n",
              "          element.appendChild(docLink);\n",
              "        }\n",
              "      </script>\n",
              "    </div>\n",
              "  </div>\n"
            ]
          },
          "metadata": {},
          "execution_count": 1
        }
      ]
    },
    {
      "cell_type": "markdown",
      "source": [
        "### **Step 2**: Clean the Data\n",
        "Sometimes it's necessary to clean our data to remove anomalies, or to trim down the dataset and filter for specific parameters.\n",
        "\n",
        "In this case, an excess of duplicate networks were detected when the drone was sitting idle during takeoff and landing, so we filter those networks out by adding a time threshold.\n",
        "\n",
        "To avoid oversaturating the map, let's only plot unique network entries using the `.unique()` function."
      ],
      "metadata": {
        "id": "jmI1R3EFOe_S"
      }
    },
    {
      "cell_type": "code",
      "execution_count": null,
      "metadata": {
        "id": "nwNHIzkbj4fP",
        "outputId": "e47be471-dc66-4960-add5-0793029e3a93",
        "colab": {
          "base_uri": "https://localhost:8080/"
        }
      },
      "outputs": [
        {
          "output_type": "stream",
          "name": "stdout",
          "text": [
            "Total WiFi AP entries: 1938\n",
            "Unique network entries: 341\n"
          ]
        }
      ],
      "source": [
        "# match all the indices of the FirstSeen column less than OR greater than our time threshold\n",
        "\n",
        "wd.drop(wd.index[wd[\"FirstSeen\"] <= \"2021-8-21 18:43:25\"], inplace=True) # before takeoff\n",
        "wd.drop(wd.index[wd[\"FirstSeen\"] >= \"2021-8-21 18:46:58\"], inplace=True) # after landing\n",
        "\n",
        "print(\"Total WiFi AP entries: \" + str(len(wd)))\n",
        "print(\"Unique network entries: \" + str(len(wd.SSID.unique())))"
      ]
    },
    {
      "cell_type": "markdown",
      "source": [
        "### **Step 3**: Basic Map Exercise\n",
        "Now let's map some data!  In this example, try mapping your own route between some iconic landmarks in Las Vegas!\n",
        "\n",
        "1. We create a map by telling Folium our central location with `folium.Map()`\n",
        "function.  Try to use a landmark!\n",
        "2. Create a `Polyline` between our landmark spots\n",
        "3."
      ],
      "metadata": {
        "id": "_QbppD4-mPvJ"
      }
    },
    {
      "cell_type": "code",
      "source": [
        "import folium\n",
        "\n",
        "# Add at least 5 iconic Vegas landmakrs here!\n",
        "landmarks = {\n",
        "    \"Caesars Palace\": (36.1169, -115.1744),\n",
        "    \"Bellagio Fountain\": (36.1129, -115.1753)\n",
        "}\n",
        "\n",
        "########## Step 1: Center the Map ##########\n",
        "center_coords = (36.1169, -115.1744) ## coordinates here\n",
        "vegas_map = folium.Map(location=center_coords, zoom_start=15)\n",
        "\n",
        "########## Step 2: Add Markers for start & stop of route! ##########\n",
        "start_coords = #\n",
        "stop_coords  = #\n",
        "# folium.Marker(location = ()), popup = \"\", icon = folium.Icon(color='green')).add_to(vegas_map)\n",
        "\n",
        "########## Step 3: Draw PolyLine between Landmarks! ##########\n",
        "# polyline_points = []\n",
        "# for locations in landmarks.values():\n",
        "#     polyline_points.append(locations)\n",
        "# folium.PolyLine(locations=polyline_points, color='blue').add_to(vegas_map)\n",
        "\n",
        "########## Step 4: Display the map! ##########\n",
        "vegas_map\n"
      ],
      "metadata": {
        "id": "2IO-B7drmaJY",
        "outputId": "d8edf08b-e9f3-4780-a6d3-ca3859001b97",
        "colab": {
          "base_uri": "https://localhost:8080/",
          "height": 132
        }
      },
      "execution_count": null,
      "outputs": [
        {
          "output_type": "error",
          "ename": "SyntaxError",
          "evalue": "ignored",
          "traceback": [
            "\u001b[0;36m  File \u001b[0;32m\"<ipython-input-3-7cb8e3e1cea2>\"\u001b[0;36m, line \u001b[0;32m14\u001b[0m\n\u001b[0;31m    start_coords = #\u001b[0m\n\u001b[0m                   ^\u001b[0m\n\u001b[0;31mSyntaxError\u001b[0m\u001b[0;31m:\u001b[0m invalid syntax\n"
          ]
        }
      ]
    },
    {
      "cell_type": "markdown",
      "source": [
        "### **Step 4**: Cluster Maps & Auto-Fitting\n",
        "Manually setting map boundaries sucks, we can u"
      ],
      "metadata": {
        "id": "Ha8S2RpbYdot"
      }
    },
    {
      "cell_type": "code",
      "source": [
        "# plot all network entries as a cluster map w/ warflight route\n",
        "\n",
        "import folium\n",
        "from folium import FeatureGroup, LayerControl, Map, Marker\n",
        "from folium.plugins import MarkerCluster\n",
        "\n",
        "MarkerCluster()\n",
        "\n",
        "# autofit map boundaries from dataset\n",
        "wd_net_map = folium.Map(wd[['Latitude', 'Longitude']].mean().values.tolist())\n",
        "wd_net_map.fit_bounds([wd[['Latitude', 'Longitude']].min().values.tolist(), wd[['Latitude', 'Longitude']].max().values.tolist()])\n",
        "network_cluster = MarkerCluster().add_to(wd_net_map)\n",
        "\n",
        "# convert dataframe to array\n",
        "networks = wd.values\n",
        "\n",
        "# warflight route\n",
        "folium.PolyLine(wd[['Latitude', 'Longitude']].values.tolist(),line_opacity = 0.5, weight = 4).add_to(wd_net_map)\n",
        "\n",
        "# cluster map of all network entries\n",
        "for network in networks:\n",
        "  folium.Marker([network[6],network[7]], popup=network[1], icon=folium.Icon(color='darkblue', icon_color='white', icon='wifi', angle=0, prefix='fa')).add_to(network_cluster)\n",
        "\n",
        "# first and last data entry\n",
        "# icons from: fontawesome.io\n",
        "folium.Marker([networks[0][6], networks[0][7]], popup=networks[0][3], icon=folium.Icon(color='green', icon_color='white', icon='plane', angle=0, prefix='fa')).add_to(wd_net_map)\n",
        "folium.Marker([networks[len(networks)-1][6],networks[len(networks)-1][7]], popup= networks[len(networks)-1][3], icon=folium.Icon(color='red', icon_color='white', icon='plane', angle=0, prefix='fa')).add_to(wd_net_map)\n",
        "\n",
        "display(wd_net_map)"
      ],
      "metadata": {
        "id": "7DEI1GdCYd-v"
      },
      "execution_count": null,
      "outputs": []
    },
    {
      "cell_type": "markdown",
      "source": [
        "## **Challenge 2: Insecure Network Heatmap**\n",
        "In this challenge, use your newfound mapping skills to plot all the insecure WiFi"
      ],
      "metadata": {
        "id": "189bu9RIPMWU"
      }
    },
    {
      "cell_type": "code",
      "source": [
        "import folium, numpy\n",
        "from folium import Map, Marker, plugins\n",
        "from folium.plugins.heat_map import HeatMap\n",
        "\n",
        "MarkerCluster()\n",
        "\n",
        "########## Auto-Fit Map Boundaries ##########\n",
        "wd_heat_map = folium.Map(wd[['Latitude', 'Longitude']].mean().values.tolist())\n",
        "wd_heat_map.fit_bounds([wd[['Latitude', 'Longitude']].min().values.tolist(), wd[['Latitude', 'Longitude']].max().values.tolist()])\n",
        "# network_cluster = MarkerCluster().add_to(wd_heat_map)\n",
        "\n",
        "########## Cluster Map of WiFi Networks ##########\n",
        "\n",
        "##  Filter for Insecure nets\n",
        "allowed_encryptions = ['[ESS]', '[WEP]', '[]']\n",
        "networks = wd.drop(wd.index[~(wd['Encryption'].isin(allowed_encryptions))]).values\n",
        "\n",
        "for network in networks:\n",
        "  folium.Marker([network[6],network[7]], popup=network[1], icon=folium.Icon(color='darkblue', icon_color='white', icon='wifi', angle=0, prefix='fa')).add_to(wd_heat_map)\n",
        "\n",
        "########## Heat Map of All Networks ##########\n",
        "\n",
        "# for device in wd.loc[wd[\"SSID\"].isin(known_devices)].values:\n",
        "#   folium.Marker( location=[device[6], device[7]], popup=device[1], icon=folium.Icon(color=\"darkblue\",icon='wifi',prefix='fa')).add_to(wd_heat_map)\n",
        "\n",
        "wd_heat_map.add_child(plugins.HeatMap(wd[['Latitude', 'Longitude']].values, radius=30))\n",
        "display(wd_heat_map)"
      ],
      "metadata": {
        "id": "vN5wysqbPbLn"
      },
      "execution_count": null,
      "outputs": []
    },
    {
      "cell_type": "markdown",
      "source": [
        "# **Challenge 3**: Known Networks\n"
      ],
      "metadata": {
        "id": "CUhbVAkFAjHm"
      }
    },
    {
      "cell_type": "markdown",
      "source": [
        "In this challenge, you'll use Regular Expressions (regex) and Pandas to filter for network attributes!  Your objective is to either:\n",
        "1. Filter for every network that looks like a setup or printer access point\n",
        "2. Filter for all devices manufactured by `NETGEAR\n",
        "`"
      ],
      "metadata": {
        "id": "B8hXV_2uRhOn"
      }
    },
    {
      "cell_type": "markdown",
      "source": [
        "### **Step 1**: MAC Address Lookup\n",
        "This function searches the `mac-vendors.txt` database that let's us correlate MAC Addresses to their hardware vendor.  This works by looking at the first half of the MAC Address `00:00:00:11:22:33`, which correlates to a vendor `OUI` - Organizationally Unique Identifier.\n",
        "\n",
        "In this case, `00:00:00` is registered to `Xerox Corporation`."
      ],
      "metadata": {
        "id": "oHECS5H3GNee"
      }
    },
    {
      "cell_type": "code",
      "source": [
        "file = open('mac-vendors.txt', 'r', encoding=\"utf8\")\n",
        "mac_dict = {line[:8]: line[9:].strip() for line in file}\n",
        "def getDeviceType(bssid): return mac_dict.get(bssid[:8], \"Unknown\")\n",
        "\n",
        "bssid = \"00:00:00:33:44:55\"\n",
        "print(getDeviceType(bssid))"
      ],
      "metadata": {
        "colab": {
          "base_uri": "https://localhost:8080/"
        },
        "id": "kaMDWOIVD5ze",
        "outputId": "fe9d8fde-ecde-4efe-c870-7524444f62d3"
      },
      "execution_count": null,
      "outputs": [
        {
          "output_type": "stream",
          "name": "stdout",
          "text": [
            "XEROX CORPORATION\n"
          ]
        }
      ]
    },
    {
      "cell_type": "code",
      "source": [
        "wd['Manufacturer'] = wd['MAC'].apply(getDeviceType)\n",
        "manufacturer_counts = wd['Manufacturer'].value_counts()\n",
        "print(manufacturer_counts)"
      ],
      "metadata": {
        "id": "FOU9LaecGMzb"
      },
      "execution_count": null,
      "outputs": []
    },
    {
      "cell_type": "code",
      "source": [
        "wd['SSID'].unique()"
      ],
      "metadata": {
        "colab": {
          "base_uri": "https://localhost:8080/",
          "height": 167
        },
        "id": "XuYBPGaaTxNh",
        "outputId": "5de04780-379c-47c7-b450-e65b76795cd7"
      },
      "execution_count": null,
      "outputs": [
        {
          "output_type": "error",
          "ename": "NameError",
          "evalue": "ignored",
          "traceback": [
            "\u001b[0;31m---------------------------------------------------------------------------\u001b[0m",
            "\u001b[0;31mNameError\u001b[0m                                 Traceback (most recent call last)",
            "\u001b[0;32m<ipython-input-1-c3cb8f5a6eb9>\u001b[0m in \u001b[0;36m<cell line: 1>\u001b[0;34m()\u001b[0m\n\u001b[0;32m----> 1\u001b[0;31m \u001b[0mwd\u001b[0m\u001b[0;34m[\u001b[0m\u001b[0;34m'SSID'\u001b[0m\u001b[0;34m]\u001b[0m\u001b[0;34m.\u001b[0m\u001b[0munique\u001b[0m\u001b[0;34m(\u001b[0m\u001b[0;34m)\u001b[0m\u001b[0;34m\u001b[0m\u001b[0;34m\u001b[0m\u001b[0m\n\u001b[0m",
            "\u001b[0;31mNameError\u001b[0m: name 'wd' is not defined"
          ]
        }
      ]
    }
  ]
}